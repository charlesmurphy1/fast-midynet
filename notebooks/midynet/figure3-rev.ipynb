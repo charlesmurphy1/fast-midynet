{
 "cells": [
  {
   "cell_type": "code",
   "execution_count": 1,
   "id": "17095dff",
   "metadata": {},
   "outputs": [],
   "source": [
    "import midynet\n",
    "import midynet.util.display as display\n",
    "import numpy as np\n",
    "import matplotlib.pyplot as plt\n",
    "import pathlib\n",
    "\n",
    "display.setup_dir(\"./\")\n",
    "\n",
    "plot = midynet.metrics.Statistics.plot"
   ]
  },
  {
   "cell_type": "code",
   "execution_count": 4,
   "id": "0b6d8ec1",
   "metadata": {},
   "outputs": [],
   "source": [
    "all_dynamics = [\"ising\", \"sis\", \"cowan\"]\n",
    "\n",
    "path_to_data = pathlib.Path(f\"/home/charles_murphy/Documents/ulaval/doctorat/projects/data/midynet-data/figure3\")\n",
    "\n",
    "small_exp = {}\n",
    "for dynamics in all_dynamics:\n",
    "    small_exp[dynamics] = {}\n",
    "    small_exp[dynamics][\"exact\"] = midynet.experiments.Experiment.load_from_file(path_to_data / f\"figure3-small-{dynamics}.exact/config.pickle\")\n",
    "#     small_exp[dynamics][\"annealed\"] = midynet.experiments.Experiment.load_from_file(path_to_data / f\"figure3-small-{dynamics}.annealed\")\n",
    "#     small_exp[dynamics][\"meanfield\"] = midynet.experiments.Experiment.load_from_file(path_to_data / f\"figure3-small-{dynamics}.meanfield\")\n",
    "\n",
    "large_exp = {}\n",
    "for dynamics in all_dynamics:\n",
    "    large_exp[dynamics] = {}\n",
    "#     small_exp[dynamics][\"annealed\"] = midynet.experiments.Experiment.load_from_file(path_to_data / f\"figure3-small-{dynamics}.annealed\")\n",
    "#     small_exp[dynamics][\"meanfield\"] = midynet.experiments.Experiment.load_from_file(path_to_data / f\"figure3-small-{dynamics}.meanfield\")\n",
    "\n",
    "if dynamics == \"sis\":\n",
    "    xlabel = r\"Infection probability $[\\alpha]$\"\n",
    "elif dynamics == \"cowan\":\n",
    "    xlabel = r\"Activity gain $[\\nu\\langle k \\rangle]$\"\n",
    "elif dynamics == \"ising\":\n",
    "    xlabel = r\"Coupling $[J\\langle k \\rangle]$\"\n",
    "\n",
    "# if dynamics == \"sis\":\n",
    "#     xmin, xmax = 0, 1\n",
    "# else:\n",
    "#     xmin, xmax = 0, 4\n",
    "# ymin, ymax = 0, 1.1\n"
   ]
  },
  {
   "cell_type": "code",
   "execution_count": 8,
   "id": "fc4e56c5",
   "metadata": {},
   "outputs": [
    {
     "data": {
      "image/png": "[encoded data removed]",
      "text/plain": [
       "<Figure size 1728x432 with 12 Axes>"
      ]
     },
     "metadata": {
      "needs_background": "light"
     },
     "output_type": "display_data"
    }
   ],
   "source": [
    "fig, ax = plt.subplots(2, 6, figsize=(24, 6))\n",
    "\n",
    "for dynamics in all_dynamics:\n",
    "    T = small_exp[dynamics][\"exact\"].config.dynamics.num_steps"
   ]
  },
  {
   "cell_type": "code",
   "execution_count": 9,
   "id": "608c96c2",
   "metadata": {},
   "outputs": [
    {
     "data": {
      "text/plain": [
       "[10, 100, 500]"
      ]
     },
     "execution_count": 9,
     "metadata": {},
     "output_type": "execute_result"
    }
   ],
   "source": [
    "T"
   ]
  },
  {
   "cell_type": "code",
   "execution_count": null,
   "id": "b4317cf9",
   "metadata": {},
   "outputs": [],
   "source": []
  }
 ],
 "metadata": {
  "kernelspec": {
   "display_name": "midynet_kernel",
   "language": "python",
   "name": "midynet_kernel"
  },
  "language_info": {
   "codemirror_mode": {
    "name": "ipython",
    "version": 3
   },
   "file_extension": ".py",
   "mimetype": "text/x-python",
   "name": "python",
   "nbconvert_exporter": "python",
   "pygments_lexer": "ipython3",
   "version": "3.9.4"
  }
 },
 "nbformat": 4,
 "nbformat_minor": 5
}
